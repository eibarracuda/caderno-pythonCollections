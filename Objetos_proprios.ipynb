{
  "nbformat": 4,
  "nbformat_minor": 0,
  "metadata": {
    "colab": {
      "provenance": [],
      "toc_visible": true,
      "authorship_tag": "ABX9TyNQDWGhSR8ZA6BFFGqJ6/no",
      "include_colab_link": true
    },
    "kernelspec": {
      "name": "python3",
      "display_name": "Python 3"
    },
    "language_info": {
      "name": "python"
    }
  },
  "cells": [
    {
      "cell_type": "markdown",
      "metadata": {
        "id": "view-in-github",
        "colab_type": "text"
      },
      "source": [
        "<a href=\"https://colab.research.google.com/github/eibarracuda/caderno-pythonCollections/blob/main/Objetos_proprios.ipynb\" target=\"_parent\"><img src=\"https://colab.research.google.com/assets/colab-badge.svg\" alt=\"Open In Colab\"/></a>"
      ]
    },
    {
      "cell_type": "markdown",
      "source": [
        "# Objetos próprios"
      ],
      "metadata": {
        "id": "49CxkvKbNo7v"
      }
    },
    {
      "cell_type": "code",
      "execution_count": 1,
      "metadata": {
        "id": "0qO0G6p2MYx8"
      },
      "outputs": [],
      "source": [
        "class ContaCorrente:\n",
        "    def __init__(self,codigo):\n",
        "      self.codigo = codigo\n",
        "      self.saldo = 0\n",
        "\n",
        "    def deposita(self, valor):\n",
        "      self.saldo += valor\n",
        "\n",
        "    def __str__(self):\n",
        "      return \"[>> Codigo {} Saldo {}<<]\".format(self.codigo, self.saldo)"
      ]
    },
    {
      "cell_type": "code",
      "source": [
        "conta_do_trator = ContaCorrente(15)\n",
        "conta_do_trator.deposita(500)\n",
        "print(conta_do_trator)"
      ],
      "metadata": {
        "colab": {
          "base_uri": "https://localhost:8080/"
        },
        "id": "4rnvkzUnRUEj",
        "outputId": "01914d69-d953-4b00-be22-32d7169d9252"
      },
      "execution_count": 2,
      "outputs": [
        {
          "output_type": "stream",
          "name": "stdout",
          "text": [
            "[>> Codigo 15 Saldo 500<<]\n"
          ]
        }
      ]
    },
    {
      "cell_type": "code",
      "source": [
        "conta_da_meia = ContaCorrente(47685)\n",
        "conta_da_meia.deposita(1000)\n",
        "print(conta_da_meia)"
      ],
      "metadata": {
        "colab": {
          "base_uri": "https://localhost:8080/"
        },
        "id": "oEQ9uxJ4f5zi",
        "outputId": "de5f005b-1e97-492e-f4a2-edf08670dca1"
      },
      "execution_count": 3,
      "outputs": [
        {
          "output_type": "stream",
          "name": "stdout",
          "text": [
            "[>> Codigo 47685 Saldo 1000<<]\n"
          ]
        }
      ]
    },
    {
      "cell_type": "code",
      "source": [
        "contas = [conta_da_meia, conta_do_trator]\n",
        "for conta in contas:\n",
        "  print(conta)"
      ],
      "metadata": {
        "colab": {
          "base_uri": "https://localhost:8080/"
        },
        "id": "F4O9Gv04geDv",
        "outputId": "59364575-bb64-4627-e619-5f5d6a58a176"
      },
      "execution_count": 6,
      "outputs": [
        {
          "output_type": "stream",
          "name": "stdout",
          "text": [
            "[>> Codigo 47685 Saldo 1000<<]\n",
            "[>> Codigo 15 Saldo 500<<]\n"
          ]
        }
      ]
    },
    {
      "cell_type": "code",
      "source": [
        "contas = [conta_do_trator, conta_da_meia, conta_do_trator]"
      ],
      "metadata": {
        "id": "DpuQik2QhHw7"
      },
      "execution_count": 7,
      "outputs": []
    },
    {
      "cell_type": "code",
      "source": [
        "print(contas[0])"
      ],
      "metadata": {
        "colab": {
          "base_uri": "https://localhost:8080/"
        },
        "id": "B2YfBpE7hS8K",
        "outputId": "172cac21-cece-494d-d3af-466503a86fa3"
      },
      "execution_count": 8,
      "outputs": [
        {
          "output_type": "stream",
          "name": "stdout",
          "text": [
            "[>> Codigo 15 Saldo 500<<]\n"
          ]
        }
      ]
    },
    {
      "cell_type": "code",
      "source": [
        "conta_do_trator.deposita(100)"
      ],
      "metadata": {
        "id": "ILT1-OJxhb9E"
      },
      "execution_count": 9,
      "outputs": []
    },
    {
      "cell_type": "code",
      "source": [
        "print(contas[0])"
      ],
      "metadata": {
        "colab": {
          "base_uri": "https://localhost:8080/"
        },
        "id": "xBZSWBs8hjEL",
        "outputId": "ba7ae38c-63ef-45c8-b5af-5fa0ccba1960"
      },
      "execution_count": 10,
      "outputs": [
        {
          "output_type": "stream",
          "name": "stdout",
          "text": [
            "[>> Codigo 15 Saldo 600<<]\n"
          ]
        }
      ]
    },
    {
      "cell_type": "code",
      "source": [
        "print(conta_do_trator)"
      ],
      "metadata": {
        "colab": {
          "base_uri": "https://localhost:8080/"
        },
        "id": "Q58-KLk-hpW7",
        "outputId": "8cbf1367-fde5-47a6-f52f-2fc3f1f2bc68"
      },
      "execution_count": 11,
      "outputs": [
        {
          "output_type": "stream",
          "name": "stdout",
          "text": [
            "[>> Codigo 15 Saldo 600<<]\n"
          ]
        }
      ]
    },
    {
      "cell_type": "code",
      "source": [
        "print(contas[2])"
      ],
      "metadata": {
        "colab": {
          "base_uri": "https://localhost:8080/"
        },
        "id": "9mJUzFa8h7eR",
        "outputId": "285edba2-9c2a-4ba8-d33e-a61f1301f4b3"
      },
      "execution_count": 12,
      "outputs": [
        {
          "output_type": "stream",
          "name": "stdout",
          "text": [
            "[>> Codigo 15 Saldo 600<<]\n"
          ]
        }
      ]
    },
    {
      "cell_type": "code",
      "source": [
        "contas[2].deposita(300)"
      ],
      "metadata": {
        "id": "HIxn3KTxiCyq"
      },
      "execution_count": 13,
      "outputs": []
    },
    {
      "cell_type": "code",
      "source": [
        "print(conta_do_trator)"
      ],
      "metadata": {
        "colab": {
          "base_uri": "https://localhost:8080/"
        },
        "id": "_Xk8M3FYiLfV",
        "outputId": "691c82a2-b0bb-4ee7-b978-747efea3a98d"
      },
      "execution_count": 14,
      "outputs": [
        {
          "output_type": "stream",
          "name": "stdout",
          "text": [
            "[>> Codigo 15 Saldo 900<<]\n"
          ]
        }
      ]
    },
    {
      "cell_type": "markdown",
      "source": [
        "> Várias referencias aos mesmos objetos"
      ],
      "metadata": {
        "id": "ZCP9jREIhz1I"
      }
    },
    {
      "cell_type": "code",
      "source": [
        "def deposita_para_todas(contas):\n",
        "    for conta in contas:\n",
        "      conta.deposita(100)\n",
        "\n",
        "contas = [conta_do_trator, conta_da_meia]\n",
        "print(contas[0], contas[1])\n",
        "deposita_para_todas(contas)\n",
        "print(contas[0], contas[1])"
      ],
      "metadata": {
        "colab": {
          "base_uri": "https://localhost:8080/"
        },
        "id": "ivhoXd0si5hR",
        "outputId": "73cb9d75-8585-48e5-af46-009607ffaa2e"
      },
      "execution_count": 15,
      "outputs": [
        {
          "output_type": "stream",
          "name": "stdout",
          "text": [
            "[>> Codigo 15 Saldo 900<<] [>> Codigo 47685 Saldo 1000<<]\n",
            "[>> Codigo 15 Saldo 1000<<] [>> Codigo 47685 Saldo 1100<<]\n"
          ]
        }
      ]
    },
    {
      "cell_type": "code",
      "source": [
        "contas.insert(0,76)\n",
        "print(contas[0], contas[1], contas[2])"
      ],
      "metadata": {
        "colab": {
          "base_uri": "https://localhost:8080/"
        },
        "id": "KjHmV0B3jfwM",
        "outputId": "ff2a1678-a1e6-4693-81e7-97101e7ff4b0"
      },
      "execution_count": 16,
      "outputs": [
        {
          "output_type": "stream",
          "name": "stdout",
          "text": [
            "76 [>> Codigo 15 Saldo 1000<<] [>> Codigo 47685 Saldo 1100<<]\n"
          ]
        }
      ]
    },
    {
      "cell_type": "markdown",
      "source": [
        "> Lista parou de ser sequencia de elementos de base comum\n",
        "\n",
        "> a posição tem significado, indica algo"
      ],
      "metadata": {
        "id": "966C9E4hj-vH"
      }
    },
    {
      "cell_type": "code",
      "source": [
        "deposita_para_todas(contas)\n",
        "print(contas[0], contas[1], contas[2])"
      ],
      "metadata": {
        "colab": {
          "base_uri": "https://localhost:8080/",
          "height": 304
        },
        "id": "q6VdwJVYklzI",
        "outputId": "a347288e-62f7-4498-d0bb-5a21ebeb06ee"
      },
      "execution_count": 17,
      "outputs": [
        {
          "output_type": "error",
          "ename": "AttributeError",
          "evalue": "ignored",
          "traceback": [
            "\u001b[0;31m---------------------------------------------------------------------------\u001b[0m",
            "\u001b[0;31mAttributeError\u001b[0m                            Traceback (most recent call last)",
            "\u001b[0;32m<ipython-input-17-92ac4487eece>\u001b[0m in \u001b[0;36m<module>\u001b[0;34m\u001b[0m\n\u001b[0;32m----> 1\u001b[0;31m \u001b[0mdeposita_para_todas\u001b[0m\u001b[0;34m(\u001b[0m\u001b[0mcontas\u001b[0m\u001b[0;34m)\u001b[0m\u001b[0;34m\u001b[0m\u001b[0;34m\u001b[0m\u001b[0m\n\u001b[0m\u001b[1;32m      2\u001b[0m \u001b[0mprint\u001b[0m\u001b[0;34m(\u001b[0m\u001b[0mcontas\u001b[0m\u001b[0;34m[\u001b[0m\u001b[0;36m0\u001b[0m\u001b[0;34m]\u001b[0m\u001b[0;34m,\u001b[0m \u001b[0mcontas\u001b[0m\u001b[0;34m[\u001b[0m\u001b[0;36m1\u001b[0m\u001b[0;34m]\u001b[0m\u001b[0;34m,\u001b[0m \u001b[0mcontas\u001b[0m\u001b[0;34m[\u001b[0m\u001b[0;36m2\u001b[0m\u001b[0;34m]\u001b[0m\u001b[0;34m)\u001b[0m\u001b[0;34m\u001b[0m\u001b[0;34m\u001b[0m\u001b[0m\n",
            "\u001b[0;32m<ipython-input-15-78f2ba8a4347>\u001b[0m in \u001b[0;36mdeposita_para_todas\u001b[0;34m(contas)\u001b[0m\n\u001b[1;32m      1\u001b[0m \u001b[0;32mdef\u001b[0m \u001b[0mdeposita_para_todas\u001b[0m\u001b[0;34m(\u001b[0m\u001b[0mcontas\u001b[0m\u001b[0;34m)\u001b[0m\u001b[0;34m:\u001b[0m\u001b[0;34m\u001b[0m\u001b[0;34m\u001b[0m\u001b[0m\n\u001b[1;32m      2\u001b[0m     \u001b[0;32mfor\u001b[0m \u001b[0mconta\u001b[0m \u001b[0;32min\u001b[0m \u001b[0mcontas\u001b[0m\u001b[0;34m:\u001b[0m\u001b[0;34m\u001b[0m\u001b[0;34m\u001b[0m\u001b[0m\n\u001b[0;32m----> 3\u001b[0;31m       \u001b[0mconta\u001b[0m\u001b[0;34m.\u001b[0m\u001b[0mdeposita\u001b[0m\u001b[0;34m(\u001b[0m\u001b[0;36m100\u001b[0m\u001b[0;34m)\u001b[0m\u001b[0;34m\u001b[0m\u001b[0;34m\u001b[0m\u001b[0m\n\u001b[0m\u001b[1;32m      4\u001b[0m \u001b[0;34m\u001b[0m\u001b[0m\n\u001b[1;32m      5\u001b[0m \u001b[0mcontas\u001b[0m \u001b[0;34m=\u001b[0m \u001b[0;34m[\u001b[0m\u001b[0mconta_do_trator\u001b[0m\u001b[0;34m,\u001b[0m \u001b[0mconta_da_meia\u001b[0m\u001b[0;34m]\u001b[0m\u001b[0;34m\u001b[0m\u001b[0;34m\u001b[0m\u001b[0m\n",
            "\u001b[0;31mAttributeError\u001b[0m: 'int' object has no attribute 'deposita'"
          ]
        }
      ]
    },
    {
      "cell_type": "markdown",
      "source": [
        "> `contas[0]` tem um valor inteiro, não tem o atributo deposita\n",
        "\n",
        "> a lista não costuma ser trabalhada assim, misturando tipos de valor\n",
        "\n",
        "> lista mais orientada a objetos\n",
        "\n",
        "> quando a gente quer uma representação é imutavel podem ser misturados -> tupla"
      ],
      "metadata": {
        "id": "rlYNrEQ-kx79"
      }
    },
    {
      "cell_type": "code",
      "source": [
        "trator = ('Gato Trator', 6, 2016) #tupla\n",
        "meia = ('Gata Meia', 4, 2018)"
      ],
      "metadata": {
        "id": "KnmSQfh1ldcX"
      },
      "execution_count": 19,
      "outputs": []
    },
    {
      "cell_type": "markdown",
      "source": [
        "> A tupla é imutavel, por isso atributos como `.append()` não funcionam\n",
        "\n",
        "> Na tupla a posição do valor importa"
      ],
      "metadata": {
        "id": "Xf4eUlqtl47g"
      }
    },
    {
      "cell_type": "markdown",
      "source": [
        "#### Lista de tuplas"
      ],
      "metadata": {
        "id": "hJGM-GdwqsLN"
      }
    },
    {
      "cell_type": "code",
      "source": [
        "usuarios = [trator, meia]\n",
        "usuarios"
      ],
      "metadata": {
        "colab": {
          "base_uri": "https://localhost:8080/"
        },
        "id": "ZgZ_mUBYn8aA",
        "outputId": "5c370996-7222-4243-ec90-a1cbe815fc8c"
      },
      "execution_count": 20,
      "outputs": [
        {
          "output_type": "execute_result",
          "data": {
            "text/plain": [
              "[('Gato Trator', 6, 2016), ('Gata Meia', 4, 2018)]"
            ]
          },
          "metadata": {},
          "execution_count": 20
        }
      ]
    },
    {
      "cell_type": "code",
      "source": [
        "usuarios.append(('Gata Bagagem', 6, 2016))"
      ],
      "metadata": {
        "id": "D1EuDYAhpQwi"
      },
      "execution_count": 21,
      "outputs": []
    },
    {
      "cell_type": "code",
      "source": [
        "usuarios"
      ],
      "metadata": {
        "colab": {
          "base_uri": "https://localhost:8080/"
        },
        "id": "tYM9N27BprSw",
        "outputId": "82c49668-ea6f-489b-9043-ad305a8b145b"
      },
      "execution_count": 22,
      "outputs": [
        {
          "output_type": "execute_result",
          "data": {
            "text/plain": [
              "[('Gato Trator', 6, 2016), ('Gata Meia', 4, 2018), ('Gata Bagagem', 6, 2016)]"
            ]
          },
          "metadata": {},
          "execution_count": 22
        }
      ]
    },
    {
      "cell_type": "code",
      "source": [
        "usuarios[0][0]"
      ],
      "metadata": {
        "colab": {
          "base_uri": "https://localhost:8080/",
          "height": 35
        },
        "id": "1R1zJl7YqdEw",
        "outputId": "4d7ca092-b037-430e-f8a6-b944600a887f"
      },
      "execution_count": 24,
      "outputs": [
        {
          "output_type": "execute_result",
          "data": {
            "text/plain": [
              "'Gato Trator'"
            ],
            "application/vnd.google.colaboratory.intrinsic+json": {
              "type": "string"
            }
          },
          "metadata": {},
          "execution_count": 24
        }
      ]
    },
    {
      "cell_type": "markdown",
      "source": [
        "#### Tupla de lista"
      ],
      "metadata": {
        "id": "fesRDuCgqya1"
      }
    },
    {
      "cell_type": "code",
      "source": [
        "conta_do_trator = ContaCorrente(15)\n",
        "conta_do_trator.deposita(500)\n",
        "conta_da_meia = ContaCorrente(234876)\n",
        "conta_da_meia.deposita(1000)\n",
        "\n",
        "contas = (conta_do_trator, conta_da_meia)"
      ],
      "metadata": {
        "id": "2BLyHwBqq1Wp"
      },
      "execution_count": 30,
      "outputs": []
    },
    {
      "cell_type": "code",
      "source": [
        "contas\n"
      ],
      "metadata": {
        "colab": {
          "base_uri": "https://localhost:8080/"
        },
        "id": "QFFvG2J9ru0-",
        "outputId": "9a9a1571-5368-42c5-9cac-250ee2ef0fbb"
      },
      "execution_count": 31,
      "outputs": [
        {
          "output_type": "execute_result",
          "data": {
            "text/plain": [
              "(<__main__.ContaCorrente at 0x7fa834c7f610>,\n",
              " <__main__.ContaCorrente at 0x7fa834c7ffa0>)"
            ]
          },
          "metadata": {},
          "execution_count": 31
        }
      ]
    },
    {
      "cell_type": "markdown",
      "source": [
        "> dois objetos diferentes"
      ],
      "metadata": {
        "id": "h13RI0k8rzqI"
      }
    },
    {
      "cell_type": "code",
      "source": [
        "for conta in contas:\n",
        "  print(conta)\n",
        "  "
      ],
      "metadata": {
        "colab": {
          "base_uri": "https://localhost:8080/"
        },
        "id": "kz3wJdFRr48i",
        "outputId": "d142a474-c9a9-4840-ad1d-e0e8362c4aba"
      },
      "execution_count": 34,
      "outputs": [
        {
          "output_type": "stream",
          "name": "stdout",
          "text": [
            "[>> Codigo 15 Saldo 500<<]\n",
            "[>> Codigo 234876 Saldo 1000<<]\n"
          ]
        }
      ]
    },
    {
      "cell_type": "code",
      "source": [
        "contas[0].deposita(300)\n"
      ],
      "metadata": {
        "id": "CMNwpgPOsJTa"
      },
      "execution_count": 35,
      "outputs": []
    },
    {
      "cell_type": "code",
      "source": [
        "for conta in contas:\n",
        "  print(conta)"
      ],
      "metadata": {
        "colab": {
          "base_uri": "https://localhost:8080/"
        },
        "id": "cEWVpoAzspiV",
        "outputId": "30ad588d-cb0a-4d67-abdf-27a4c7bd40ef"
      },
      "execution_count": 36,
      "outputs": [
        {
          "output_type": "stream",
          "name": "stdout",
          "text": [
            "[>> Codigo 15 Saldo 800<<]\n",
            "[>> Codigo 234876 Saldo 1000<<]\n"
          ]
        }
      ]
    },
    {
      "cell_type": "markdown",
      "source": [
        "> A tupla é imutavel mas os objetos dentro dela não são"
      ],
      "metadata": {
        "id": "QEu4eZcJut24"
      }
    },
    {
      "cell_type": "markdown",
      "source": [
        "# O que aprendemos nesta aula:\n",
        "\n",
        "-   Criar uma classe e métodos;\n",
        "-   Criar uma lista de referência para objetos;\n",
        "-   Lidar com referências;\n",
        "-   O que é uma tupla;\n",
        "-   Fazer tupla de listas;\n",
        "-   Diferença entre programação orientada a objetos e funcional;\n",
        "-   Fazer uma lista de tuplas."
      ],
      "metadata": {
        "id": "pBkU-41Evee3"
      }
    }
  ]
}