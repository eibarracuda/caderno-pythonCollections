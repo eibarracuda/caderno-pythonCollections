{
  "nbformat": 4,
  "nbformat_minor": 0,
  "metadata": {
    "colab": {
      "provenance": [],
      "authorship_tag": "ABX9TyNm2iY9+PT+o6D+e0njNNcG",
      "include_colab_link": true
    },
    "kernelspec": {
      "name": "python3",
      "display_name": "Python 3"
    },
    "language_info": {
      "name": "python"
    }
  },
  "cells": [
    {
      "cell_type": "markdown",
      "metadata": {
        "id": "view-in-github",
        "colab_type": "text"
      },
      "source": [
        "<a href=\"https://colab.research.google.com/github/eibarracuda/caderno-pythonCollections/blob/main/Introdu%C3%A7%C3%A3o_a_Collections.ipynb\" target=\"_parent\"><img src=\"https://colab.research.google.com/assets/colab-badge.svg\" alt=\"Open In Colab\"/></a>"
      ]
    },
    {
      "cell_type": "markdown",
      "source": [
        "# Python Collections parte 1\n",
        "## Introdução\n",
        "\n",
        "<small>08/02/2023</small>\n"
      ],
      "metadata": {
        "id": "NEiTcMX4i8tI"
      }
    },
    {
      "cell_type": "markdown",
      "source": [
        "### [Data Structures](https://docs.python.org/3/tutorial/datastructures.html?highlight=data%20structures)\n",
        "\n",
        "#### Listas"
      ],
      "metadata": {
        "id": "2PLkLmZQ0y10"
      }
    },
    {
      "cell_type": "code",
      "source": [
        "idade1 = 39\n",
        "idade2 = 30\n",
        "idade3 = 27\n",
        "idade4 = 18\n",
        "\n",
        "print(idade1, idade2, idade3, idade4)"
      ],
      "metadata": {
        "colab": {
          "base_uri": "https://localhost:8080/"
        },
        "id": "jRc1TOkzbs8l",
        "outputId": "5e148a29-62b2-4b0f-e08e-20dea30c43f7"
      },
      "execution_count": 3,
      "outputs": [
        {
          "output_type": "stream",
          "name": "stdout",
          "text": [
            "39 30 27 18\n"
          ]
        }
      ]
    },
    {
      "cell_type": "markdown",
      "source": [
        "\n",
        "\n",
        "> Declaração de variaveis uma a uma\n",
        "\n"
      ],
      "metadata": {
        "id": "wZnULq_Ml4F3"
      }
    },
    {
      "cell_type": "code",
      "source": [
        "idades = [39, 30, 27, 18]\n",
        "print(idades)"
      ],
      "metadata": {
        "colab": {
          "base_uri": "https://localhost:8080/"
        },
        "id": "EuKkZ0qfdeu_",
        "outputId": "e5160278-7e63-4f79-cfd4-0d98b06fca02"
      },
      "execution_count": 4,
      "outputs": [
        {
          "output_type": "stream",
          "name": "stdout",
          "text": [
            "[39, 30, 27, 18]\n"
          ]
        }
      ]
    },
    {
      "cell_type": "markdown",
      "source": [
        "> Declaração de variaveis em lista\n",
        "\n",
        "> Posição começa em [0, 1, 2, 3].\n",
        "\n"
      ],
      "metadata": {
        "id": "8Sc1jucumA_b"
      }
    },
    {
      "cell_type": "markdown",
      "source": [
        "#### **type**(*var*)"
      ],
      "metadata": {
        "id": "RqHQiEVws_ew"
      }
    },
    {
      "cell_type": "code",
      "source": [
        "type(idades)"
      ],
      "metadata": {
        "colab": {
          "base_uri": "https://localhost:8080/"
        },
        "id": "G1I4t5fBdupc",
        "outputId": "8606870c-a3d3-4dfa-8edd-fb058ef4e589"
      },
      "execution_count": 5,
      "outputs": [
        {
          "output_type": "execute_result",
          "data": {
            "text/plain": [
              "list"
            ]
          },
          "metadata": {},
          "execution_count": 5
        }
      ]
    },
    {
      "cell_type": "markdown",
      "source": [
        "> Tipo da variavel idades? **lista**"
      ],
      "metadata": {
        "id": "m5Mcewhely1a"
      }
    },
    {
      "cell_type": "markdown",
      "source": [
        "#### **len**(*var*)\n",
        "> quantidade de valores na variavel idades"
      ],
      "metadata": {
        "id": "EkMQXx_omOB6"
      }
    },
    {
      "cell_type": "code",
      "source": [
        "len(idades)"
      ],
      "metadata": {
        "colab": {
          "base_uri": "https://localhost:8080/"
        },
        "id": "OT6xKptrd16H",
        "outputId": "2bacbb16-c6b8-46aa-f000-7e2d2de7a3d4"
      },
      "execution_count": 6,
      "outputs": [
        {
          "output_type": "execute_result",
          "data": {
            "text/plain": [
              "4"
            ]
          },
          "metadata": {},
          "execution_count": 6
        }
      ]
    },
    {
      "cell_type": "markdown",
      "source": [
        "#### Posições na lista"
      ],
      "metadata": {
        "id": "8b93QWK0tsKg"
      }
    },
    {
      "cell_type": "code",
      "source": [
        "idades[0]"
      ],
      "metadata": {
        "colab": {
          "base_uri": "https://localhost:8080/"
        },
        "id": "vRN3ChuNd5hm",
        "outputId": "4238a5b1-28fa-4ba5-9c33-8988dfae5398"
      },
      "execution_count": 7,
      "outputs": [
        {
          "output_type": "execute_result",
          "data": {
            "text/plain": [
              "39"
            ]
          },
          "metadata": {},
          "execution_count": 7
        }
      ]
    },
    {
      "cell_type": "markdown",
      "source": [
        "> qual a idade na posição 0?"
      ],
      "metadata": {
        "id": "6HbVTFLimkvQ"
      }
    },
    {
      "cell_type": "code",
      "source": [
        "idades"
      ],
      "metadata": {
        "colab": {
          "base_uri": "https://localhost:8080/"
        },
        "id": "lEaX7G-7d8hg",
        "outputId": "6345ace9-7f51-4896-ac88-3409d6127535"
      },
      "execution_count": 8,
      "outputs": [
        {
          "output_type": "execute_result",
          "data": {
            "text/plain": [
              "[39, 30, 27, 18]"
            ]
          },
          "metadata": {},
          "execution_count": 8
        }
      ]
    },
    {
      "cell_type": "code",
      "source": [
        "print(idades[0])\n",
        "print(idades[1])\n",
        "print(idades[2])\n",
        "print(idades[3])"
      ],
      "metadata": {
        "colab": {
          "base_uri": "https://localhost:8080/"
        },
        "id": "YZaUX-IAeHU3",
        "outputId": "46836b71-b8bc-4f4a-c6ce-56ff82547096"
      },
      "execution_count": 9,
      "outputs": [
        {
          "output_type": "stream",
          "name": "stdout",
          "text": [
            "39\n",
            "30\n",
            "27\n",
            "18\n"
          ]
        }
      ]
    },
    {
      "cell_type": "markdown",
      "source": [
        "> Chamando as posições da nosssa lista individualmente"
      ],
      "metadata": {
        "id": "PGoV_8gRnFcX"
      }
    },
    {
      "cell_type": "markdown",
      "source": [
        "##### list**.append**(*x*)"
      ],
      "metadata": {
        "id": "RGAt05Jqrq-f"
      }
    },
    {
      "cell_type": "code",
      "source": [
        "idades.append(15)"
      ],
      "metadata": {
        "id": "aOFVcd1jeTl7"
      },
      "execution_count": 10,
      "outputs": []
    },
    {
      "cell_type": "markdown",
      "source": [
        "> Adicionar valor, fica no fundo da lista"
      ],
      "metadata": {
        "id": "6LkWedf8nNxg"
      }
    },
    {
      "cell_type": "code",
      "source": [
        "print(idades[4])"
      ],
      "metadata": {
        "colab": {
          "base_uri": "https://localhost:8080/"
        },
        "id": "NMKyKMZ_ebjd",
        "outputId": "15e9ee9b-50d1-47d0-ebe4-ee81109983b8"
      },
      "execution_count": 11,
      "outputs": [
        {
          "output_type": "stream",
          "name": "stdout",
          "text": [
            "15\n"
          ]
        }
      ]
    },
    {
      "cell_type": "code",
      "source": [
        "print(idades[5])"
      ],
      "metadata": {
        "colab": {
          "base_uri": "https://localhost:8080/",
          "height": 165
        },
        "id": "GFvP9psBefs3",
        "outputId": "2b822834-382e-4c73-c214-8c759403aabc"
      },
      "execution_count": 12,
      "outputs": [
        {
          "output_type": "error",
          "ename": "IndexError",
          "evalue": "ignored",
          "traceback": [
            "\u001b[0;31m---------------------------------------------------------------------------\u001b[0m",
            "\u001b[0;31mIndexError\u001b[0m                                Traceback (most recent call last)",
            "\u001b[0;32m<ipython-input-12-75c89565e9ef>\u001b[0m in \u001b[0;36m<module>\u001b[0;34m\u001b[0m\n\u001b[0;32m----> 1\u001b[0;31m \u001b[0mprint\u001b[0m\u001b[0;34m(\u001b[0m\u001b[0midades\u001b[0m\u001b[0;34m[\u001b[0m\u001b[0;36m5\u001b[0m\u001b[0;34m]\u001b[0m\u001b[0;34m)\u001b[0m\u001b[0;34m\u001b[0m\u001b[0;34m\u001b[0m\u001b[0m\n\u001b[0m",
            "\u001b[0;31mIndexError\u001b[0m: list index out of range"
          ]
        }
      ]
    },
    {
      "cell_type": "markdown",
      "source": [
        "> Erro de quando não existe nada na posição que a gente chama"
      ],
      "metadata": {
        "id": "UdUDq8pmnXIG"
      }
    },
    {
      "cell_type": "code",
      "source": [
        "for idade in idades:\n",
        "  print(idade)"
      ],
      "metadata": {
        "colab": {
          "base_uri": "https://localhost:8080/"
        },
        "id": "JPDB4B_Welsk",
        "outputId": "321b89c3-5cee-4782-ce58-1906b946ba66"
      },
      "execution_count": 13,
      "outputs": [
        {
          "output_type": "stream",
          "name": "stdout",
          "text": [
            "39\n",
            "30\n",
            "27\n",
            "18\n",
            "15\n"
          ]
        }
      ]
    },
    {
      "cell_type": "markdown",
      "source": [
        "> A cada idade em da lista idades:\n",
        "\n",
        "> Imprimir a idade"
      ],
      "metadata": {
        "id": "sHNZNQohnhqk"
      }
    },
    {
      "cell_type": "markdown",
      "source": [
        "#### list.**remove**(*x*)"
      ],
      "metadata": {
        "id": "4vEpHMieuCqc"
      }
    },
    {
      "cell_type": "code",
      "source": [
        "idades.remove(30)"
      ],
      "metadata": {
        "id": "xf0Kgtaie19B"
      },
      "execution_count": 14,
      "outputs": []
    },
    {
      "cell_type": "markdown",
      "source": [
        "> Remover certo valor da lista"
      ],
      "metadata": {
        "id": "pyVFFXznnwiM"
      }
    },
    {
      "cell_type": "code",
      "source": [
        "idades"
      ],
      "metadata": {
        "colab": {
          "base_uri": "https://localhost:8080/"
        },
        "id": "iHxWLm3Ue5UT",
        "outputId": "131ce713-b5b3-4c32-a701-e04b5ee4b99f"
      },
      "execution_count": 15,
      "outputs": [
        {
          "output_type": "execute_result",
          "data": {
            "text/plain": [
              "[39, 27, 18, 15]"
            ]
          },
          "metadata": {},
          "execution_count": 15
        }
      ]
    },
    {
      "cell_type": "code",
      "source": [
        "idades.remove(30)"
      ],
      "metadata": {
        "colab": {
          "base_uri": "https://localhost:8080/",
          "height": 165
        },
        "id": "RPwsjs_re_LB",
        "outputId": "f48c9753-4edd-4f53-9b58-501746fae771"
      },
      "execution_count": 16,
      "outputs": [
        {
          "output_type": "error",
          "ename": "ValueError",
          "evalue": "ignored",
          "traceback": [
            "\u001b[0;31m---------------------------------------------------------------------------\u001b[0m",
            "\u001b[0;31mValueError\u001b[0m                                Traceback (most recent call last)",
            "\u001b[0;32m<ipython-input-16-4f77f6ee3785>\u001b[0m in \u001b[0;36m<module>\u001b[0;34m\u001b[0m\n\u001b[0;32m----> 1\u001b[0;31m \u001b[0midades\u001b[0m\u001b[0;34m.\u001b[0m\u001b[0mremove\u001b[0m\u001b[0;34m(\u001b[0m\u001b[0;36m30\u001b[0m\u001b[0;34m)\u001b[0m\u001b[0;34m\u001b[0m\u001b[0;34m\u001b[0m\u001b[0m\n\u001b[0m",
            "\u001b[0;31mValueError\u001b[0m: list.remove(x): x not in list"
          ]
        }
      ]
    },
    {
      "cell_type": "markdown",
      "source": [
        "> quando o valor não está na lista dá ValueError"
      ],
      "metadata": {
        "id": "LRq02F0gn0p8"
      }
    },
    {
      "cell_type": "code",
      "source": [
        "idades.append(15)"
      ],
      "metadata": {
        "id": "mcTD1AeIfHn_"
      },
      "execution_count": 17,
      "outputs": []
    },
    {
      "cell_type": "code",
      "source": [
        "idades"
      ],
      "metadata": {
        "colab": {
          "base_uri": "https://localhost:8080/"
        },
        "id": "hfjOjCw_fLrG",
        "outputId": "9452c656-18b9-48ff-ac42-6018dda50013"
      },
      "execution_count": 18,
      "outputs": [
        {
          "output_type": "execute_result",
          "data": {
            "text/plain": [
              "[39, 27, 18, 15, 15]"
            ]
          },
          "metadata": {},
          "execution_count": 18
        }
      ]
    },
    {
      "cell_type": "code",
      "source": [
        "idades.remove(15)"
      ],
      "metadata": {
        "id": "An8vO2fFfPHL"
      },
      "execution_count": 19,
      "outputs": []
    },
    {
      "cell_type": "code",
      "source": [
        "idades"
      ],
      "metadata": {
        "colab": {
          "base_uri": "https://localhost:8080/"
        },
        "id": "90lAlLJbfSYQ",
        "outputId": "d3acfbce-1c7c-4137-ce97-adb8963d7871"
      },
      "execution_count": 20,
      "outputs": [
        {
          "output_type": "execute_result",
          "data": {
            "text/plain": [
              "[39, 27, 18, 15]"
            ]
          },
          "metadata": {},
          "execution_count": 20
        }
      ]
    },
    {
      "cell_type": "code",
      "source": [
        "idades.append(27)\n",
        "idades.remove(27)\n",
        "idades"
      ],
      "metadata": {
        "colab": {
          "base_uri": "https://localhost:8080/"
        },
        "id": "igsDnCyJfcZe",
        "outputId": "58d7348a-9579-48b8-bf22-6f5f80594d6b"
      },
      "execution_count": 21,
      "outputs": [
        {
          "output_type": "execute_result",
          "data": {
            "text/plain": [
              "[39, 18, 15, 27]"
            ]
          },
          "metadata": {},
          "execution_count": 21
        }
      ]
    },
    {
      "cell_type": "markdown",
      "source": [
        "O **remove vai apagar a primeira aparição do elemento** da lista"
      ],
      "metadata": {
        "id": "_dRhni_IfmzA"
      }
    },
    {
      "cell_type": "code",
      "source": [
        "28 in idades"
      ],
      "metadata": {
        "colab": {
          "base_uri": "https://localhost:8080/"
        },
        "id": "nkRZ8jqWf8i2",
        "outputId": "4fb9cb3e-ee3a-466f-aa7d-d3cd1ae2a63e"
      },
      "execution_count": 22,
      "outputs": [
        {
          "output_type": "execute_result",
          "data": {
            "text/plain": [
              "False"
            ]
          },
          "metadata": {},
          "execution_count": 22
        }
      ]
    },
    {
      "cell_type": "code",
      "source": [
        "15 in idades"
      ],
      "metadata": {
        "colab": {
          "base_uri": "https://localhost:8080/"
        },
        "id": "KXhMnCndhtP_",
        "outputId": "32958057-35d9-42af-c4b5-8692093d7edd"
      },
      "execution_count": 23,
      "outputs": [
        {
          "output_type": "execute_result",
          "data": {
            "text/plain": [
              "True"
            ]
          },
          "metadata": {},
          "execution_count": 23
        }
      ]
    },
    {
      "cell_type": "code",
      "source": [
        "if 15 in idades:\n",
        "  idades.remove(15)"
      ],
      "metadata": {
        "id": "JH9EDt6vhzx5"
      },
      "execution_count": 24,
      "outputs": []
    },
    {
      "cell_type": "code",
      "source": [
        "idades"
      ],
      "metadata": {
        "colab": {
          "base_uri": "https://localhost:8080/"
        },
        "id": "XiF0ZUCah_Ay",
        "outputId": "f7b41c26-5b6f-41d3-b8a3-4a4531753d05"
      },
      "execution_count": 25,
      "outputs": [
        {
          "output_type": "execute_result",
          "data": {
            "text/plain": [
              "[39, 18, 27]"
            ]
          },
          "metadata": {},
          "execution_count": 25
        }
      ]
    },
    {
      "cell_type": "code",
      "source": [
        "if 28 in idades:\n",
        "  idades.remove(28)"
      ],
      "metadata": {
        "id": "DwgnHzWbiCwj"
      },
      "execution_count": 26,
      "outputs": []
    },
    {
      "cell_type": "code",
      "source": [
        "idades"
      ],
      "metadata": {
        "colab": {
          "base_uri": "https://localhost:8080/"
        },
        "id": "E4nbKxBMiU0X",
        "outputId": "01355064-9486-4339-8486-41a46cc98e8a"
      },
      "execution_count": 28,
      "outputs": [
        {
          "output_type": "execute_result",
          "data": {
            "text/plain": [
              "[39, 18, 27]"
            ]
          },
          "metadata": {},
          "execution_count": 28
        }
      ]
    },
    {
      "cell_type": "markdown",
      "source": [
        "> Podemos perguntar se o valor está em idades antes de executar coisas para ele, dessa forma não dá erro"
      ],
      "metadata": {
        "id": "JtNGozJQodvX"
      }
    },
    {
      "cell_type": "markdown",
      "source": [
        "#### list**.insert**(*i,x*)\n",
        "> insere o item `x` na posição `i`"
      ],
      "metadata": {
        "id": "kLdXT67UqDTf"
      }
    },
    {
      "cell_type": "code",
      "source": [
        "idades.insert(0,20)\n",
        "idades"
      ],
      "metadata": {
        "colab": {
          "base_uri": "https://localhost:8080/"
        },
        "id": "dtNp9ZINqkzH",
        "outputId": "5d9286a2-5d25-4c6a-9be9-6c2c84b369c2"
      },
      "execution_count": 29,
      "outputs": [
        {
          "output_type": "execute_result",
          "data": {
            "text/plain": [
              "[20, 39, 18, 27]"
            ]
          },
          "metadata": {},
          "execution_count": 29
        }
      ]
    },
    {
      "cell_type": "code",
      "source": [
        "idades = [20, 39, 18]\n",
        "idades"
      ],
      "metadata": {
        "colab": {
          "base_uri": "https://localhost:8080/"
        },
        "id": "HBLZiCkHq1n_",
        "outputId": "11308d17-7b79-4f2d-86a2-b7ee88735a20"
      },
      "execution_count": 30,
      "outputs": [
        {
          "output_type": "execute_result",
          "data": {
            "text/plain": [
              "[20, 39, 18]"
            ]
          },
          "metadata": {},
          "execution_count": 30
        }
      ]
    },
    {
      "cell_type": "code",
      "source": [
        "idades.append(27, 19)"
      ],
      "metadata": {
        "colab": {
          "base_uri": "https://localhost:8080/",
          "height": 165
        },
        "id": "5UBLU8aku3IE",
        "outputId": "9e51f819-e99d-4ca6-8645-d1146ab7df8a"
      },
      "execution_count": 31,
      "outputs": [
        {
          "output_type": "error",
          "ename": "TypeError",
          "evalue": "ignored",
          "traceback": [
            "\u001b[0;31m---------------------------------------------------------------------------\u001b[0m",
            "\u001b[0;31mTypeError\u001b[0m                                 Traceback (most recent call last)",
            "\u001b[0;32m<ipython-input-31-7a7e3e89a65d>\u001b[0m in \u001b[0;36m<module>\u001b[0;34m\u001b[0m\n\u001b[0;32m----> 1\u001b[0;31m \u001b[0midades\u001b[0m\u001b[0;34m.\u001b[0m\u001b[0mappend\u001b[0m\u001b[0;34m(\u001b[0m\u001b[0;36m27\u001b[0m\u001b[0;34m,\u001b[0m \u001b[0;36m19\u001b[0m\u001b[0;34m)\u001b[0m\u001b[0;34m\u001b[0m\u001b[0;34m\u001b[0m\u001b[0m\n\u001b[0m",
            "\u001b[0;31mTypeError\u001b[0m: append() takes exactly one argument (2 given)"
          ]
        }
      ]
    },
    {
      "cell_type": "markdown",
      "source": [
        "> `.append()` acrescenta apenas mais 1 valor"
      ],
      "metadata": {
        "id": "0IreMtHsu_0r"
      }
    },
    {
      "cell_type": "code",
      "source": [
        "idades.append([27, 19])"
      ],
      "metadata": {
        "id": "8BGREOwCvR5Q"
      },
      "execution_count": 32,
      "outputs": []
    },
    {
      "cell_type": "code",
      "source": [
        "idades"
      ],
      "metadata": {
        "colab": {
          "base_uri": "https://localhost:8080/"
        },
        "id": "FIp9F_7uvYc3",
        "outputId": "17aa842a-ced2-48c4-d8b9-b515d78c1086"
      },
      "execution_count": 33,
      "outputs": [
        {
          "output_type": "execute_result",
          "data": {
            "text/plain": [
              "[20, 39, 18, [27, 19]]"
            ]
          },
          "metadata": {},
          "execution_count": 33
        }
      ]
    },
    {
      "cell_type": "code",
      "source": [
        "for elemento in idades:\n",
        "  print(\"Recebi o elemento\", elemento)"
      ],
      "metadata": {
        "colab": {
          "base_uri": "https://localhost:8080/"
        },
        "id": "GAQifPNyviS0",
        "outputId": "21da6e16-9736-47d7-b629-c269acf4a4b3"
      },
      "execution_count": 34,
      "outputs": [
        {
          "output_type": "stream",
          "name": "stdout",
          "text": [
            "Recebi o elemento 20\n",
            "Recebi o elemento 39\n",
            "Recebi o elemento 18\n",
            "Recebi o elemento [27, 19]\n"
          ]
        }
      ]
    },
    {
      "cell_type": "markdown",
      "source": [
        "> `append()` acrescentou uma lista dentro da lista"
      ],
      "metadata": {
        "id": "H4wT8rWnvxFF"
      }
    },
    {
      "cell_type": "markdown",
      "source": [
        "#### list.**extend** ( *[ ]* )"
      ],
      "metadata": {
        "id": "xzM03xdWwgqE"
      }
    },
    {
      "cell_type": "code",
      "source": [
        "idades = [20, 39, 18]\n",
        "idades.extend([27, 19])\n",
        "idades"
      ],
      "metadata": {
        "colab": {
          "base_uri": "https://localhost:8080/"
        },
        "id": "J31n9ScGwSc8",
        "outputId": "dd721fae-fa74-40c2-e1af-9555017e2917"
      },
      "execution_count": 36,
      "outputs": [
        {
          "output_type": "execute_result",
          "data": {
            "text/plain": [
              "[20, 39, 18, 27, 19]"
            ]
          },
          "metadata": {},
          "execution_count": 36
        }
      ]
    },
    {
      "cell_type": "markdown",
      "source": [
        "### Trabalhando com valores - *List compreheension*\n",
        "#### Aplicando filtros e comparações"
      ],
      "metadata": {
        "id": "PNoqzWivw5IW"
      }
    },
    {
      "cell_type": "code",
      "source": [
        "for idade in idades:\n",
        "  print(idade + 1)"
      ],
      "metadata": {
        "colab": {
          "base_uri": "https://localhost:8080/"
        },
        "id": "2XnBwSNUw_CT",
        "outputId": "083c635e-420e-4438-d4e2-f67eaaee248f"
      },
      "execution_count": 37,
      "outputs": [
        {
          "output_type": "stream",
          "name": "stdout",
          "text": [
            "21\n",
            "40\n",
            "19\n",
            "28\n",
            "20\n"
          ]
        }
      ]
    },
    {
      "cell_type": "code",
      "source": [
        "idades_no_ano_que_vem = [ ] \n",
        "for idade in idades:\n",
        "  idades_no_ano_que_vem.append(idade+1)\n",
        "idades_no_ano_que_vem"
      ],
      "metadata": {
        "colab": {
          "base_uri": "https://localhost:8080/"
        },
        "id": "KTuZE4ynxJPN",
        "outputId": "b1792fc0-c9df-45b7-8222-b97a27520226"
      },
      "execution_count": 38,
      "outputs": [
        {
          "output_type": "execute_result",
          "data": {
            "text/plain": [
              "[21, 40, 19, 28, 20]"
            ]
          },
          "metadata": {},
          "execution_count": 38
        }
      ]
    },
    {
      "cell_type": "code",
      "source": [
        "idades_no_ano_que_vem = [(idade+1)for idade in idades]\n",
        "idades_no_ano_que_vem"
      ],
      "metadata": {
        "colab": {
          "base_uri": "https://localhost:8080/"
        },
        "id": "QsMVQo7Kx-ab",
        "outputId": "f14c8041-5dbf-4d9e-e40f-a56c8adb6fd8"
      },
      "execution_count": 39,
      "outputs": [
        {
          "output_type": "execute_result",
          "data": {
            "text/plain": [
              "[21, 40, 19, 28, 20]"
            ]
          },
          "metadata": {},
          "execution_count": 39
        }
      ]
    },
    {
      "cell_type": "markdown",
      "source": [
        "> Duas formas diferentes de aplicação de operação em uma mesma sequencia"
      ],
      "metadata": {
        "id": "zPCaHrNjyTrJ"
      }
    },
    {
      "cell_type": "code",
      "source": [
        "[(idade)for idade in idades if idade > 21]"
      ],
      "metadata": {
        "colab": {
          "base_uri": "https://localhost:8080/"
        },
        "id": "_uIygJwRyRdq",
        "outputId": "dee74214-d84f-4199-e38f-6db13a68aa46"
      },
      "execution_count": 40,
      "outputs": [
        {
          "output_type": "execute_result",
          "data": {
            "text/plain": [
              "[39, 27]"
            ]
          },
          "metadata": {},
          "execution_count": 40
        }
      ]
    },
    {
      "cell_type": "markdown",
      "source": [
        "> Filtragens"
      ],
      "metadata": {
        "id": "IT9cVRUbznR8"
      }
    },
    {
      "cell_type": "code",
      "source": [
        "def proximo_ano(idade):\n",
        "  return idade+1\n",
        "[proximo_ano(idade)for idade in idades if idade > 21]"
      ],
      "metadata": {
        "colab": {
          "base_uri": "https://localhost:8080/"
        },
        "id": "MVPHiZ8BzkSB",
        "outputId": "2d32c951-27d4-415b-c67c-7c3ff20ea4e6"
      },
      "execution_count": 41,
      "outputs": [
        {
          "output_type": "execute_result",
          "data": {
            "text/plain": [
              "[40, 28]"
            ]
          },
          "metadata": {},
          "execution_count": 41
        }
      ]
    },
    {
      "cell_type": "markdown",
      "source": [
        "> Legibilidade do código"
      ],
      "metadata": {
        "id": "jujfPHZlz62b"
      }
    },
    {
      "cell_type": "markdown",
      "source": [
        "### Tuplas"
      ],
      "metadata": {
        "id": "ym3SSxa71Sii"
      }
    },
    {
      "cell_type": "markdown",
      "source": [
        "#### Problemas com a mutabilidade da lista"
      ],
      "metadata": {
        "id": "j2QH9idA2PiZ"
      }
    },
    {
      "cell_type": "code",
      "source": [
        "def faz_processamento_de_visualizacao(lista):\n",
        "  print(len(lista))\n",
        "  lista.append(13)"
      ],
      "metadata": {
        "id": "Gc5f_Wvc1cY9"
      },
      "execution_count": 46,
      "outputs": []
    },
    {
      "cell_type": "code",
      "source": [
        "idades = [16, 21, 29, 56, 43]\n",
        "faz_processamento_de_visualizacao(idades)\n",
        "idades"
      ],
      "metadata": {
        "colab": {
          "base_uri": "https://localhost:8080/"
        },
        "id": "EZpsicOQ1sQd",
        "outputId": "edf4a1fa-c2e2-4401-d216-9892f6a3d9a2"
      },
      "execution_count": 45,
      "outputs": [
        {
          "output_type": "stream",
          "name": "stdout",
          "text": [
            "5\n"
          ]
        },
        {
          "output_type": "execute_result",
          "data": {
            "text/plain": [
              "[16, 21, 29, 56, 43, 13]"
            ]
          },
          "metadata": {},
          "execution_count": 45
        }
      ]
    },
    {
      "cell_type": "markdown",
      "source": [
        "> a mudança de codigo por diversos desenvolvedores\n",
        "\n",
        "> usar listas mutaveis pode trazer resultados inesperados"
      ],
      "metadata": {
        "id": "z4lDBqo02l5I"
      }
    },
    {
      "cell_type": "code",
      "source": [
        "def faz_processamento_de_visualizacao(lista = None):\n",
        "  if lista == None:\n",
        "    lista = list()\n",
        "  print(len(lista))\n",
        "  print(lista)\n",
        "  lista.append(13)\n"
      ],
      "metadata": {
        "id": "8wEk9I-vInME"
      },
      "execution_count": null,
      "outputs": []
    },
    {
      "cell_type": "markdown",
      "source": [
        "> Não é recomendável colocar uma lista como parâmetro `default`, e, sim,`None` e verificar se é `None`, mas isso também se estende para outros objetos que você pode usar como parâmetro de valor opcional, que é mutável. Portanto, é sempre bom ter esse cuidado, listas e objetos que são mutáveis."
      ],
      "metadata": {
        "id": "TRAslQjDJjA0"
      }
    },
    {
      "cell_type": "markdown",
      "source": [
        "### O que aprendemos nesta aula:\n",
        "\n",
        "\n",
        "\n",
        "*   O que é coleção;\n",
        "*   Criar lista;\n",
        "*   Verificar o tipo da lista e o tamanho da lista;\n",
        "*   Mostrar na tela o valor conforme sua posição na lista;\n",
        "*   Alterar valores que estão dentro da lista;\n",
        "*   Adicionar valores no final da lista;\n",
        "*   Percorrer a lista;\n",
        "*   Remover elemento da lista;\n",
        "*   Remover todos elementos da lista;\n",
        "*   Verificar se o elemento está dentro da lista;\n",
        "*   Inserir um elemento na posição que desejamos;\n",
        "*   Utilizar um list comprehension;\n",
        "*   Fazer filtragens;\n",
        "*   Criar uma função e deixar um valor padrão;\n",
        "*   Quais são os problemas da mutabilidade."
      ],
      "metadata": {
        "id": "fJFEsK07KayF"
      }
    }
  ]
}